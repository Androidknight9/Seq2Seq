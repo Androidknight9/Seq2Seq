{
 "cells": [
  {
   "cell_type": "code",
   "execution_count": null,
   "id": "initial_id",
   "metadata": {
    "collapsed": true
   },
   "outputs": [],
   "source": [
    "import pandas as pd\n",
    "\n",
    "data_frame = pd.read_csv('../data/cmn.txt', sep='\\t', names=['en', 'ch', 'info'], usecols=[0, 1])\n",
    "data_frame.head()"
   ]
  },
  {
   "cell_type": "code",
   "execution_count": null,
   "outputs": [],
   "source": [
    "data_frame['en_len'] = data_frame['en'].apply(lambda x:len(x.split(' ')))\n",
    "data_frame['ch_len'] = data_frame['ch'].apply(len)\n",
    "print(f\"英文句子的最大长度:{data_frame['en_len'].max()},英文句子的最小长度:{data_frame['en_len'].min()},平均长度:{data_frame['en_len'].mean()},标准差:{data_frame['en_len'].std()}\")\n",
    "print(f\"中文句子的最大长度:{data_frame['ch_len'].max()},中文句子的最小长度:{data_frame['ch_len'].min()},平均长度:{data_frame['ch_len'].mean()},标准差:{data_frame['ch_len'].std()}\")"
   ],
   "metadata": {
    "collapsed": false
   },
   "id": "4239b21a6b38b4ab"
  },
  {
   "cell_type": "code",
   "execution_count": null,
   "outputs": [],
   "source": [],
   "metadata": {
    "collapsed": false
   },
   "id": "337f62e214ef0e8b"
  },
  {
   "cell_type": "code",
   "execution_count": null,
   "outputs": [],
   "source": [],
   "metadata": {
    "collapsed": false
   },
   "id": "765e48a340cf26cf"
  }
 ],
 "metadata": {
  "kernelspec": {
   "display_name": "Python 3",
   "language": "python",
   "name": "python3"
  },
  "language_info": {
   "codemirror_mode": {
    "name": "ipython",
    "version": 2
   },
   "file_extension": ".py",
   "mimetype": "text/x-python",
   "name": "python",
   "nbconvert_exporter": "python",
   "pygments_lexer": "ipython2",
   "version": "2.7.6"
  }
 },
 "nbformat": 4,
 "nbformat_minor": 5
}
